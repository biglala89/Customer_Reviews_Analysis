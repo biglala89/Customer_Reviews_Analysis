{
 "cells": [
  {
   "cell_type": "markdown",
   "metadata": {},
   "source": [
    "# Document Clustering and Topic Modeling"
   ]
  },
  {
   "cell_type": "markdown",
   "metadata": {},
   "source": [
    "In this project, I use unsupervised learning model to cluster unlabeled documents into different groups, visualize the results."
   ]
  },
  {
   "cell_type": "code",
   "execution_count": 126,
   "metadata": {},
   "outputs": [],
   "source": [
    "import sqlite3\n",
    "import pandas as pd\n",
    "import os\n",
    "import re\n",
    "import matplotlib.pyplot as plt\n",
    "import nltk\n",
    "from sklearn import decomposition\n",
    "from sklearn.feature_extraction.text import TfidfVectorizer\n",
    "%matplotlib inline"
   ]
  },
  {
   "cell_type": "markdown",
   "metadata": {},
   "source": [
    "## 1. Load Data"
   ]
  },
  {
   "cell_type": "code",
   "execution_count": 127,
   "metadata": {},
   "outputs": [],
   "source": [
    "db_name = 'customer_review_analysis.db'\n",
    "\n",
    "query = \"\"\"select name, rating, comment, timestamp_\n",
    "            from reviews r \n",
    "            join users u \n",
    "            on r.id = u.id\n",
    "        \"\"\""
   ]
  },
  {
   "cell_type": "code",
   "execution_count": 128,
   "metadata": {},
   "outputs": [],
   "source": [
    "def connect_db(db_file):\n",
    "    try:\n",
    "        conn = sqlite3.connect(os.path.join(os.getcwd(), db_file))\n",
    "        return conn\n",
    "    except Exception as e:\n",
    "        print (e)\n",
    "    return None"
   ]
  },
  {
   "cell_type": "code",
   "execution_count": 129,
   "metadata": {
    "scrolled": true
   },
   "outputs": [
    {
     "data": {
      "text/html": [
       "<div>\n",
       "<style scoped>\n",
       "    .dataframe tbody tr th:only-of-type {\n",
       "        vertical-align: middle;\n",
       "    }\n",
       "\n",
       "    .dataframe tbody tr th {\n",
       "        vertical-align: top;\n",
       "    }\n",
       "\n",
       "    .dataframe thead th {\n",
       "        text-align: right;\n",
       "    }\n",
       "</style>\n",
       "<table border=\"1\" class=\"dataframe\">\n",
       "  <thead>\n",
       "    <tr style=\"text-align: right;\">\n",
       "      <th></th>\n",
       "      <th>Name</th>\n",
       "      <th>Rating</th>\n",
       "      <th>Comment</th>\n",
       "      <th>Timestamp_</th>\n",
       "    </tr>\n",
       "  </thead>\n",
       "  <tbody>\n",
       "    <tr>\n",
       "      <th>0</th>\n",
       "      <td>Krystof</td>\n",
       "      <td>5</td>\n",
       "      <td>Great prices and customer service, shipping pr...</td>\n",
       "      <td>Friday, October 19, 2018 - 7:45:41 PM</td>\n",
       "    </tr>\n",
       "    <tr>\n",
       "      <th>1</th>\n",
       "      <td>JACK</td>\n",
       "      <td>5</td>\n",
       "      <td>easy to find parts</td>\n",
       "      <td>Friday, October 19, 2018 - 7:45:37 PM</td>\n",
       "    </tr>\n",
       "    <tr>\n",
       "      <th>2</th>\n",
       "      <td>George</td>\n",
       "      <td>5</td>\n",
       "      <td>Excellent. The BEST in the business.</td>\n",
       "      <td>Friday, October 19, 2018 - 7:35:03 PM</td>\n",
       "    </tr>\n",
       "    <tr>\n",
       "      <th>3</th>\n",
       "      <td>jay</td>\n",
       "      <td>5</td>\n",
       "      <td>Just my latest order from B&amp;H always satisfied...</td>\n",
       "      <td>Friday, October 19, 2018 - 7:26:05 PM</td>\n",
       "    </tr>\n",
       "    <tr>\n",
       "      <th>4</th>\n",
       "      <td>Chuck</td>\n",
       "      <td>5</td>\n",
       "      <td>Easy, quick and great website. Found everythin...</td>\n",
       "      <td>Friday, October 19, 2018 - 6:46:44 PM</td>\n",
       "    </tr>\n",
       "  </tbody>\n",
       "</table>\n",
       "</div>"
      ],
      "text/plain": [
       "      Name  Rating                                            Comment  \\\n",
       "0  Krystof       5  Great prices and customer service, shipping pr...   \n",
       "1     JACK       5                                 easy to find parts   \n",
       "2   George       5               Excellent. The BEST in the business.   \n",
       "3      jay       5  Just my latest order from B&H always satisfied...   \n",
       "4    Chuck       5  Easy, quick and great website. Found everythin...   \n",
       "\n",
       "                              Timestamp_  \n",
       "0  Friday, October 19, 2018 - 7:45:41 PM  \n",
       "1  Friday, October 19, 2018 - 7:45:37 PM  \n",
       "2  Friday, October 19, 2018 - 7:35:03 PM  \n",
       "3  Friday, October 19, 2018 - 7:26:05 PM  \n",
       "4  Friday, October 19, 2018 - 6:46:44 PM  "
      ]
     },
     "execution_count": 129,
     "metadata": {},
     "output_type": "execute_result"
    }
   ],
   "source": [
    "# Read in the data from sqlite db\n",
    "df = pd.read_sql(query, connect_db(db_name))\n",
    "df.head()"
   ]
  },
  {
   "cell_type": "markdown",
   "metadata": {},
   "source": [
    "### 1.1 Reviews by Month"
   ]
  },
  {
   "cell_type": "code",
   "execution_count": 130,
   "metadata": {
    "scrolled": true
   },
   "outputs": [
    {
     "name": "stdout",
     "output_type": "stream",
     "text": [
      "OrderedDict([('January', 2073),\n",
      "             ('February', 2040),\n",
      "             ('March', 1943),\n",
      "             ('April', 1797),\n",
      "             ('May', 2199),\n",
      "             ('June', 2140),\n",
      "             ('July', 2136),\n",
      "             ('August', 1960),\n",
      "             ('September', 908),\n",
      "             ('October', 920),\n",
      "             ('November', 0),\n",
      "             ('December', 0)])\n"
     ]
    }
   ],
   "source": [
    "from pprint import pprint\n",
    "from collections import OrderedDict\n",
    "\n",
    "# Monthly number of reviews for year 2018 so far\n",
    "def monthly_count():\n",
    "    months = ['January', 'February', 'March', 'April', 'May', 'June', 'July', 'August', 'September', 'October', 'November', 'December']\n",
    "    monthly_reviews = OrderedDict()\n",
    "    for month in months:\n",
    "        counts = df[df.Timestamp_.str.contains('.*?{}\\s+\\d+,\\s+2018.*?'.format(month), case=False)].shape[0]\n",
    "        monthly_reviews[month] = counts\n",
    "    return monthly_reviews\n",
    "\n",
    "ret = monthly_count()\n",
    "pprint (ret)"
   ]
  },
  {
   "cell_type": "code",
   "execution_count": null,
   "metadata": {},
   "outputs": [],
   "source": []
  },
  {
   "cell_type": "markdown",
   "metadata": {},
   "source": [
    "## 2. Tokenization and Stemming"
   ]
  },
  {
   "cell_type": "code",
   "execution_count": 131,
   "metadata": {},
   "outputs": [],
   "source": [
    "# Import English Stopwords\n",
    "stopwords = nltk.corpus.stopwords.words('english')"
   ]
  },
  {
   "cell_type": "code",
   "execution_count": 132,
   "metadata": {},
   "outputs": [
    {
     "data": {
      "text/plain": [
       "['Great prices and customer service, shipping prices are either free or priced fairly.',\n",
       " 'easy to find parts',\n",
       " 'Excellent. The BEST in the business.',\n",
       " 'Just my latest order from B&H always satisfied with products and service !',\n",
       " 'Easy, quick and great website. Found everything I needed fast.']"
      ]
     },
     "execution_count": 132,
     "metadata": {},
     "output_type": "execute_result"
    }
   ],
   "source": [
    "# Listify comments from dataframe\n",
    "comments = df.Comment.tolist()\n",
    "comments[:5]"
   ]
  },
  {
   "cell_type": "code",
   "execution_count": 133,
   "metadata": {},
   "outputs": [
    {
     "data": {
      "text/plain": [
       "19880"
      ]
     },
     "execution_count": 133,
     "metadata": {},
     "output_type": "execute_result"
    }
   ],
   "source": [
    "len(comments)"
   ]
  },
  {
   "cell_type": "code",
   "execution_count": 134,
   "metadata": {},
   "outputs": [],
   "source": [
    "from nltk.stem.snowball import SnowballStemmer\n",
    "stemmer = SnowballStemmer(\"english\")\n",
    "\n",
    "def tokenization(text):\n",
    "    \"\"\"tokenize sentences and words; filter out tokens not containing letters\"\"\"\n",
    "    tokens = []\n",
    "    for sentence in nltk.sent_tokenize(text):\n",
    "        for word in nltk.word_tokenize(sentence):\n",
    "            if word not in stopwords:\n",
    "                tokens.append(word)\n",
    "    filtered_tokens = []\n",
    "    for token in tokens:\n",
    "        if re.search('[a-zA-Z]', token):\n",
    "            filtered_tokens.append(token)\n",
    "    return filtered_tokens\n",
    "\n",
    "def tokenization_and_stemming(text):\n",
    "    \"\"\"tokenize and stem sentences and words\"\"\"\n",
    "    tokens = [word.lower() for sent in nltk.sent_tokenize(text) for word in nltk.word_tokenize(sent) if word not in stopwords]\n",
    "    filtered_tokens = []\n",
    "    for token in tokens:\n",
    "        if re.search('[a-zA-Z]', token):\n",
    "            filtered_tokens.append(token)\n",
    "    stems = [stemmer.stem(t) for t in filtered_tokens]\n",
    "    return stems"
   ]
  },
  {
   "cell_type": "code",
   "execution_count": 135,
   "metadata": {},
   "outputs": [],
   "source": [
    "# Use defined functions to tokenize and create stemmed comments\n",
    "comments_stemmed = []\n",
    "comments_tokenized = []\n",
    "\n",
    "for c in comments:    \n",
    "    token_stem_res = tokenization_and_stemming(c)\n",
    "    comments_stemmed.extend(token_stem_res)\n",
    "    \n",
    "    tokenized_res = tokenization(c)\n",
    "    comments_tokenized.extend(tokenized_res)"
   ]
  },
  {
   "cell_type": "code",
   "execution_count": 136,
   "metadata": {},
   "outputs": [],
   "source": [
    "# Create dictionary to store stems and orginal words\n",
    "stem_token_mapper = {comments_stemmed[i]:comments_tokenized[i] for i in range(len(comments_stemmed))}"
   ]
  },
  {
   "cell_type": "code",
   "execution_count": 137,
   "metadata": {},
   "outputs": [
    {
     "data": {
      "text/plain": [
       "6741"
      ]
     },
     "execution_count": 137,
     "metadata": {},
     "output_type": "execute_result"
    }
   ],
   "source": [
    "len(stem_token_mapper)"
   ]
  },
  {
   "cell_type": "code",
   "execution_count": null,
   "metadata": {},
   "outputs": [],
   "source": []
  },
  {
   "cell_type": "markdown",
   "metadata": {},
   "source": [
    "## 3. Features with TF-IDF"
   ]
  },
  {
   "cell_type": "code",
   "execution_count": 138,
   "metadata": {},
   "outputs": [
    {
     "name": "stdout",
     "output_type": "stream",
     "text": [
      "In total, there are 19880 comments and 7 terms.\n"
     ]
    }
   ],
   "source": [
    "# Define vectorizer parameters\n",
    "tfidf_model = TfidfVectorizer(max_df=0.8, max_features=200000,\n",
    "                                 min_df=0.2, stop_words='english',\n",
    "                                 use_idf=True, tokenizer=tokenization_and_stemming, ngram_range=(1,1))\n",
    "\n",
    "# Fit the vectorizer to comments\n",
    "tfidf_matrix = tfidf_model.fit_transform(comments)\n",
    "\n",
    "print (\"In total, there are \" + str(tfidf_matrix.shape[0]) + \\\n",
    "      \" comments and \" + str(tfidf_matrix.shape[1]) + \" terms.\")"
   ]
  },
  {
   "cell_type": "code",
   "execution_count": 139,
   "metadata": {},
   "outputs": [
    {
     "data": {
      "text/plain": [
       "['alway', 'b', 'easi', 'great', 'h', 'price', 'servic']"
      ]
     },
     "execution_count": 139,
     "metadata": {},
     "output_type": "execute_result"
    }
   ],
   "source": [
    "tf_selected_words = tfidf_model.get_feature_names()\n",
    "tf_selected_words"
   ]
  },
  {
   "cell_type": "code",
   "execution_count": null,
   "metadata": {},
   "outputs": [],
   "source": []
  },
  {
   "cell_type": "markdown",
   "metadata": {},
   "source": [
    "## 4. Calculate Document Similarity"
   ]
  },
  {
   "cell_type": "code",
   "execution_count": 140,
   "metadata": {},
   "outputs": [
    {
     "name": "stdout",
     "output_type": "stream",
     "text": [
      "[[1.         0.         0.         ... 0.28129143 0.68354226 0.18743241]\n",
      " [0.         1.         0.         ... 0.         0.60546603 0.74565859]\n",
      " [0.         0.         0.         ... 0.         0.         0.        ]\n",
      " ...\n",
      " [0.28129143 0.         0.         ... 1.         0.54105068 0.66632819]\n",
      " [0.68354226 0.60546603 0.         ... 0.54105068 1.         0.81198827]\n",
      " [0.18743241 0.74565859 0.         ... 0.66632819 0.81198827 1.        ]]\n"
     ]
    }
   ],
   "source": [
    "from sklearn.metrics.pairwise import cosine_similarity\n",
    "cos_matrix = cosine_similarity(tfidf_matrix)\n",
    "print (cos_matrix)"
   ]
  },
  {
   "cell_type": "markdown",
   "metadata": {},
   "source": [
    "The higher the value, the similar the documents. 1 on the diagonal represents document with itself. "
   ]
  },
  {
   "cell_type": "code",
   "execution_count": null,
   "metadata": {},
   "outputs": [],
   "source": []
  },
  {
   "cell_type": "markdown",
   "metadata": {},
   "source": [
    "## 5. K-Means Clustering"
   ]
  },
  {
   "cell_type": "markdown",
   "metadata": {},
   "source": [
    "### 5.1 Train and analyze result"
   ]
  },
  {
   "cell_type": "code",
   "execution_count": 141,
   "metadata": {},
   "outputs": [],
   "source": [
    "# Train k-means based on tfidf matrix\n",
    "from sklearn.cluster import KMeans\n",
    "\n",
    "num_clusters = 5 # change the number to have different numbers of clusters\n",
    "km = KMeans(n_clusters=num_clusters)\n",
    "km.fit(tfidf_matrix)\n",
    "clusters = km.labels_.tolist()"
   ]
  },
  {
   "cell_type": "code",
   "execution_count": 142,
   "metadata": {},
   "outputs": [
    {
     "data": {
      "text/html": [
       "<div>\n",
       "<style scoped>\n",
       "    .dataframe tbody tr th:only-of-type {\n",
       "        vertical-align: middle;\n",
       "    }\n",
       "\n",
       "    .dataframe tbody tr th {\n",
       "        vertical-align: top;\n",
       "    }\n",
       "\n",
       "    .dataframe thead th {\n",
       "        text-align: right;\n",
       "    }\n",
       "</style>\n",
       "<table border=\"1\" class=\"dataframe\">\n",
       "  <thead>\n",
       "    <tr style=\"text-align: right;\">\n",
       "      <th></th>\n",
       "      <th>Name</th>\n",
       "      <th>Rating</th>\n",
       "      <th>Comment</th>\n",
       "      <th>Timestamp_</th>\n",
       "      <th>cluster</th>\n",
       "    </tr>\n",
       "  </thead>\n",
       "  <tbody>\n",
       "    <tr>\n",
       "      <th>0</th>\n",
       "      <td>Krystof</td>\n",
       "      <td>5</td>\n",
       "      <td>Great prices and customer service, shipping pr...</td>\n",
       "      <td>Friday, October 19, 2018 - 7:45:41 PM</td>\n",
       "      <td>0</td>\n",
       "    </tr>\n",
       "    <tr>\n",
       "      <th>1</th>\n",
       "      <td>JACK</td>\n",
       "      <td>5</td>\n",
       "      <td>easy to find parts</td>\n",
       "      <td>Friday, October 19, 2018 - 7:45:37 PM</td>\n",
       "      <td>2</td>\n",
       "    </tr>\n",
       "    <tr>\n",
       "      <th>2</th>\n",
       "      <td>George</td>\n",
       "      <td>5</td>\n",
       "      <td>Excellent. The BEST in the business.</td>\n",
       "      <td>Friday, October 19, 2018 - 7:35:03 PM</td>\n",
       "      <td>0</td>\n",
       "    </tr>\n",
       "    <tr>\n",
       "      <th>3</th>\n",
       "      <td>jay</td>\n",
       "      <td>5</td>\n",
       "      <td>Just my latest order from B&amp;H always satisfied...</td>\n",
       "      <td>Friday, October 19, 2018 - 7:26:05 PM</td>\n",
       "      <td>1</td>\n",
       "    </tr>\n",
       "    <tr>\n",
       "      <th>4</th>\n",
       "      <td>Chuck</td>\n",
       "      <td>5</td>\n",
       "      <td>Easy, quick and great website. Found everythin...</td>\n",
       "      <td>Friday, October 19, 2018 - 6:46:44 PM</td>\n",
       "      <td>2</td>\n",
       "    </tr>\n",
       "  </tbody>\n",
       "</table>\n",
       "</div>"
      ],
      "text/plain": [
       "      Name  Rating                                            Comment  \\\n",
       "0  Krystof       5  Great prices and customer service, shipping pr...   \n",
       "1     JACK       5                                 easy to find parts   \n",
       "2   George       5               Excellent. The BEST in the business.   \n",
       "3      jay       5  Just my latest order from B&H always satisfied...   \n",
       "4    Chuck       5  Easy, quick and great website. Found everythin...   \n",
       "\n",
       "                              Timestamp_  cluster  \n",
       "0  Friday, October 19, 2018 - 7:45:41 PM        0  \n",
       "1  Friday, October 19, 2018 - 7:45:37 PM        2  \n",
       "2  Friday, October 19, 2018 - 7:35:03 PM        0  \n",
       "3  Friday, October 19, 2018 - 7:26:05 PM        1  \n",
       "4  Friday, October 19, 2018 - 6:46:44 PM        2  "
      ]
     },
     "execution_count": 142,
     "metadata": {},
     "output_type": "execute_result"
    }
   ],
   "source": [
    "# Append cluster column to initial dataframe\n",
    "df['cluster'] = pd.Series(clusters).values\n",
    "df.head()"
   ]
  },
  {
   "cell_type": "code",
   "execution_count": 143,
   "metadata": {},
   "outputs": [
    {
     "data": {
      "text/html": [
       "<div>\n",
       "<style scoped>\n",
       "    .dataframe tbody tr th:only-of-type {\n",
       "        vertical-align: middle;\n",
       "    }\n",
       "\n",
       "    .dataframe tbody tr th {\n",
       "        vertical-align: top;\n",
       "    }\n",
       "\n",
       "    .dataframe thead th {\n",
       "        text-align: right;\n",
       "    }\n",
       "</style>\n",
       "<table border=\"1\" class=\"dataframe\">\n",
       "  <thead>\n",
       "    <tr style=\"text-align: right;\">\n",
       "      <th></th>\n",
       "      <th>cluster</th>\n",
       "    </tr>\n",
       "  </thead>\n",
       "  <tbody>\n",
       "    <tr>\n",
       "      <th>0</th>\n",
       "      <td>6144</td>\n",
       "    </tr>\n",
       "    <tr>\n",
       "      <th>1</th>\n",
       "      <td>4815</td>\n",
       "    </tr>\n",
       "    <tr>\n",
       "      <th>2</th>\n",
       "      <td>3279</td>\n",
       "    </tr>\n",
       "    <tr>\n",
       "      <th>3</th>\n",
       "      <td>3102</td>\n",
       "    </tr>\n",
       "    <tr>\n",
       "      <th>4</th>\n",
       "      <td>2540</td>\n",
       "    </tr>\n",
       "  </tbody>\n",
       "</table>\n",
       "</div>"
      ],
      "text/plain": [
       "   cluster\n",
       "0     6144\n",
       "1     4815\n",
       "2     3279\n",
       "3     3102\n",
       "4     2540"
      ]
     },
     "execution_count": 143,
     "metadata": {},
     "output_type": "execute_result"
    }
   ],
   "source": [
    "df['cluster'].value_counts().to_frame()"
   ]
  },
  {
   "cell_type": "markdown",
   "metadata": {},
   "source": [
    "Cluster 2 has the largest number of comments based on the algorithm."
   ]
  },
  {
   "cell_type": "markdown",
   "metadata": {},
   "source": [
    "### 5.2 Present cluster keywords and visualize clusters"
   ]
  },
  {
   "cell_type": "code",
   "execution_count": 144,
   "metadata": {
    "scrolled": true
   },
   "outputs": [
    {
     "name": "stdout",
     "output_type": "stream",
     "text": [
      "<Document clustering keywords by K-means>\n"
     ]
    },
    {
     "data": {
      "text/plain": [
       "{0: ['service', 'prices', 'Always', 'Easy', 'B', 'H', 'Great'],\n",
       " 1: ['B', 'H', 'Always', 'service', 'prices', 'Great', 'Easy'],\n",
       " 2: ['Easy', 'Great', 'prices', 'Always', 'service', 'B', 'H'],\n",
       " 3: ['Great', 'service', 'prices', 'Always', 'B', 'H', 'Easy'],\n",
       " 4: ['Always', 'Great', 'service', 'prices', 'B', 'H', 'Easy']}"
      ]
     },
     "execution_count": 144,
     "metadata": {},
     "output_type": "execute_result"
    }
   ],
   "source": [
    "# km.cluster_centers_ denotes the importances of each items in centroid.\n",
    "# We need to sort it in decreasing-order and get the top k items.\n",
    "order_centroids = km.cluster_centers_.argsort()[:, ::-1] \n",
    "\n",
    "Cluster_keywords_summary = {}\n",
    "for i in range(num_clusters):\n",
    "    Cluster_keywords_summary[i] = []\n",
    "    for ind in order_centroids[i, :]:\n",
    "        Cluster_keywords_summary[i].append(stem_token_mapper[tf_selected_words[ind]])\n",
    "\n",
    "print (\"<Document clustering keywords by K-means>\")\n",
    "Cluster_keywords_summary"
   ]
  },
  {
   "cell_type": "code",
   "execution_count": 145,
   "metadata": {},
   "outputs": [],
   "source": [
    "pca = decomposition.PCA(n_components=2)\n",
    "tfidf_matrix_np=tfidf_matrix.toarray()\n",
    "pca.fit(tfidf_matrix_np)\n",
    "X = pca.transform(tfidf_matrix_np)\n",
    "\n",
    "xs, ys = X[:, 0], X[:, 1]\n",
    "\n",
    "# Set up colors per clusters using a dict\n",
    "cluster_colors = {0: '#1b9e77', 1: '#d95f02', 2: '#7570b3', 3: '#e7298a', 4: '#66a61e'}\n",
    "\n",
    "# Set up cluster names using a dict\n",
    "cluster_names = {}\n",
    "for i in range(num_clusters):\n",
    "    cluster_names[i] = \", \".join(Cluster_keywords_summary[i])"
   ]
  },
  {
   "cell_type": "code",
   "execution_count": 146,
   "metadata": {},
   "outputs": [
    {
     "data": {
      "image/png": "[encoded data removed]",
      "text/plain": [
       "<Figure size 1152x648 with 1 Axes>"
      ]
     },
     "metadata": {},
     "output_type": "display_data"
    }
   ],
   "source": [
    "# Create data frame with PCA cluster results\n",
    "df = pd.DataFrame(dict(x=xs, y=ys, label=clusters)) \n",
    "groups = df.groupby(clusters)\n",
    "\n",
    "# Set up plot\n",
    "fig, ax = plt.subplots(figsize=(16, 9))\n",
    "\n",
    "# Set color for each cluster/group\n",
    "for name, group in groups:\n",
    "    ax.plot(group.x, group.y, marker='o', linestyle='', ms=8, \n",
    "            label=cluster_names[name], color=cluster_colors[name], \n",
    "            mec='none')\n",
    "\n",
    "ax.legend(numpoints=1,loc='best')  # Show legend with only 1 point\n",
    "\n",
    "plt.show()"
   ]
  },
  {
   "cell_type": "markdown",
   "metadata": {},
   "source": [
    "It appears that five clusters have similar keywords based on the analysis. There are also overlaps in some clusters. We can try different number of clusters using k-means, or try different algorithms to see if that will increase our result."
   ]
  }
 ],
 "metadata": {
  "kernelspec": {
   "display_name": "Python 3",
   "language": "python",
   "name": "python3"
  },
  "language_info": {
   "codemirror_mode": {
    "name": "ipython",
    "version": 3
   },
   "file_extension": ".py",
   "mimetype": "text/x-python",
   "name": "python",
   "nbconvert_exporter": "python",
   "pygments_lexer": "ipython3",
   "version": "3.6.4"
  }
 },
 "nbformat": 4,
 "nbformat_minor": 2
}
